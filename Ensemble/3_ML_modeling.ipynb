{
  "nbformat": 4,
  "nbformat_minor": 0,
  "metadata": {
    "colab": {
      "name": "3_ML-modeling.ipynb",
      "provenance": [],
      "collapsed_sections": [],
      "toc_visible": true
    },
    "kernelspec": {
      "name": "python3",
      "display_name": "Python 3"
    },
    "language_info": {
      "name": "python"
    }
  },
  "cells": [
    {
      "cell_type": "code",
      "execution_count": 1,
      "metadata": {
        "id": "Zo3sQSXzfCnt"
      },
      "outputs": [],
      "source": [
        "import numpy as np\n",
        "import pandas as pd\n",
        "%matplotlib inline\n",
        "import matplotlib.pyplot as plt\n",
        "import urllib.request\n",
        "from tensorflow.keras.preprocessing.text import Tokenizer\n",
        "from tensorflow.keras.preprocessing.sequence import pad_sequences"
      ]
    },
    {
      "cell_type": "code",
      "source": [
        "data = pd.read_csv(\"/content/spam_prc.csv\")\n",
        "data = data[data.columns[1:]]\n",
        "data['category'] = data['category'].replace(['ham','spam'], [0,1])"
      ],
      "metadata": {
        "id": "Lk4xKEGofST7"
      },
      "execution_count": 12,
      "outputs": []
    },
    {
      "cell_type": "code",
      "source": [
        "data.to_csv(\"/content/sms_data.csv\", index=False)"
      ],
      "metadata": {
        "id": "e8bRwBiefYJc"
      },
      "execution_count": 13,
      "outputs": []
    },
    {
      "cell_type": "code",
      "source": [
        "data = pd.read_csv(\"/content/sms_data.csv\")"
      ],
      "metadata": {
        "id": "3Gawzxvwftjk"
      },
      "execution_count": 14,
      "outputs": []
    },
    {
      "cell_type": "markdown",
      "source": [
        "# 3. 머신러닝 모델링"
      ],
      "metadata": {
        "id": "i3-U3REsf9vr"
      }
    },
    {
      "cell_type": "markdown",
      "source": [
        "## 3-1. 토큰화"
      ],
      "metadata": {
        "id": "l2ZmkkoTg3uX"
      }
    },
    {
      "cell_type": "code",
      "source": [
        "data.head()"
      ],
      "metadata": {
        "colab": {
          "base_uri": "https://localhost:8080/",
          "height": 206
        },
        "id": "GCTvmsgbgGVo",
        "outputId": "81d3c11a-bbd0-48ba-cbe0-0d5659003a01"
      },
      "execution_count": 15,
      "outputs": [
        {
          "output_type": "execute_result",
          "data": {
            "text/html": [
              "\n",
              "  <div id=\"df-253ad931-16cf-444e-8cc8-ce7efa55e0ea\">\n",
              "    <div class=\"colab-df-container\">\n",
              "      <div>\n",
              "<style scoped>\n",
              "    .dataframe tbody tr th:only-of-type {\n",
              "        vertical-align: middle;\n",
              "    }\n",
              "\n",
              "    .dataframe tbody tr th {\n",
              "        vertical-align: top;\n",
              "    }\n",
              "\n",
              "    .dataframe thead th {\n",
              "        text-align: right;\n",
              "    }\n",
              "</style>\n",
              "<table border=\"1\" class=\"dataframe\">\n",
              "  <thead>\n",
              "    <tr style=\"text-align: right;\">\n",
              "      <th></th>\n",
              "      <th>category</th>\n",
              "      <th>text</th>\n",
              "    </tr>\n",
              "  </thead>\n",
              "  <tbody>\n",
              "    <tr>\n",
              "      <th>0</th>\n",
              "      <td>0</td>\n",
              "      <td>Go until jurong point, crazy.. Available only ...</td>\n",
              "    </tr>\n",
              "    <tr>\n",
              "      <th>1</th>\n",
              "      <td>0</td>\n",
              "      <td>Ok lar... Joking wif u oni...</td>\n",
              "    </tr>\n",
              "    <tr>\n",
              "      <th>2</th>\n",
              "      <td>1</td>\n",
              "      <td>Free entry in 2 a wkly comp to win FA Cup fina...</td>\n",
              "    </tr>\n",
              "    <tr>\n",
              "      <th>3</th>\n",
              "      <td>0</td>\n",
              "      <td>U dun say so early hor... U c already then say...</td>\n",
              "    </tr>\n",
              "    <tr>\n",
              "      <th>4</th>\n",
              "      <td>0</td>\n",
              "      <td>Nah I don't think he goes to usf, he lives aro...</td>\n",
              "    </tr>\n",
              "  </tbody>\n",
              "</table>\n",
              "</div>\n",
              "      <button class=\"colab-df-convert\" onclick=\"convertToInteractive('df-253ad931-16cf-444e-8cc8-ce7efa55e0ea')\"\n",
              "              title=\"Convert this dataframe to an interactive table.\"\n",
              "              style=\"display:none;\">\n",
              "        \n",
              "  <svg xmlns=\"http://www.w3.org/2000/svg\" height=\"24px\"viewBox=\"0 0 24 24\"\n",
              "       width=\"24px\">\n",
              "    <path d=\"M0 0h24v24H0V0z\" fill=\"none\"/>\n",
              "    <path d=\"M18.56 5.44l.94 2.06.94-2.06 2.06-.94-2.06-.94-.94-2.06-.94 2.06-2.06.94zm-11 1L8.5 8.5l.94-2.06 2.06-.94-2.06-.94L8.5 2.5l-.94 2.06-2.06.94zm10 10l.94 2.06.94-2.06 2.06-.94-2.06-.94-.94-2.06-.94 2.06-2.06.94z\"/><path d=\"M17.41 7.96l-1.37-1.37c-.4-.4-.92-.59-1.43-.59-.52 0-1.04.2-1.43.59L10.3 9.45l-7.72 7.72c-.78.78-.78 2.05 0 2.83L4 21.41c.39.39.9.59 1.41.59.51 0 1.02-.2 1.41-.59l7.78-7.78 2.81-2.81c.8-.78.8-2.07 0-2.86zM5.41 20L4 18.59l7.72-7.72 1.47 1.35L5.41 20z\"/>\n",
              "  </svg>\n",
              "      </button>\n",
              "      \n",
              "  <style>\n",
              "    .colab-df-container {\n",
              "      display:flex;\n",
              "      flex-wrap:wrap;\n",
              "      gap: 12px;\n",
              "    }\n",
              "\n",
              "    .colab-df-convert {\n",
              "      background-color: #E8F0FE;\n",
              "      border: none;\n",
              "      border-radius: 50%;\n",
              "      cursor: pointer;\n",
              "      display: none;\n",
              "      fill: #1967D2;\n",
              "      height: 32px;\n",
              "      padding: 0 0 0 0;\n",
              "      width: 32px;\n",
              "    }\n",
              "\n",
              "    .colab-df-convert:hover {\n",
              "      background-color: #E2EBFA;\n",
              "      box-shadow: 0px 1px 2px rgba(60, 64, 67, 0.3), 0px 1px 3px 1px rgba(60, 64, 67, 0.15);\n",
              "      fill: #174EA6;\n",
              "    }\n",
              "\n",
              "    [theme=dark] .colab-df-convert {\n",
              "      background-color: #3B4455;\n",
              "      fill: #D2E3FC;\n",
              "    }\n",
              "\n",
              "    [theme=dark] .colab-df-convert:hover {\n",
              "      background-color: #434B5C;\n",
              "      box-shadow: 0px 1px 3px 1px rgba(0, 0, 0, 0.15);\n",
              "      filter: drop-shadow(0px 1px 2px rgba(0, 0, 0, 0.3));\n",
              "      fill: #FFFFFF;\n",
              "    }\n",
              "  </style>\n",
              "\n",
              "      <script>\n",
              "        const buttonEl =\n",
              "          document.querySelector('#df-253ad931-16cf-444e-8cc8-ce7efa55e0ea button.colab-df-convert');\n",
              "        buttonEl.style.display =\n",
              "          google.colab.kernel.accessAllowed ? 'block' : 'none';\n",
              "\n",
              "        async function convertToInteractive(key) {\n",
              "          const element = document.querySelector('#df-253ad931-16cf-444e-8cc8-ce7efa55e0ea');\n",
              "          const dataTable =\n",
              "            await google.colab.kernel.invokeFunction('convertToInteractive',\n",
              "                                                     [key], {});\n",
              "          if (!dataTable) return;\n",
              "\n",
              "          const docLinkHtml = 'Like what you see? Visit the ' +\n",
              "            '<a target=\"_blank\" href=https://colab.research.google.com/notebooks/data_table.ipynb>data table notebook</a>'\n",
              "            + ' to learn more about interactive tables.';\n",
              "          element.innerHTML = '';\n",
              "          dataTable['output_type'] = 'display_data';\n",
              "          await google.colab.output.renderOutput(dataTable, element);\n",
              "          const docLink = document.createElement('div');\n",
              "          docLink.innerHTML = docLinkHtml;\n",
              "          element.appendChild(docLink);\n",
              "        }\n",
              "      </script>\n",
              "    </div>\n",
              "  </div>\n",
              "  "
            ],
            "text/plain": [
              "   category                                               text\n",
              "0         0  Go until jurong point, crazy.. Available only ...\n",
              "1         0                      Ok lar... Joking wif u oni...\n",
              "2         1  Free entry in 2 a wkly comp to win FA Cup fina...\n",
              "3         0  U dun say so early hor... U c already then say...\n",
              "4         0  Nah I don't think he goes to usf, he lives aro..."
            ]
          },
          "metadata": {},
          "execution_count": 15
        }
      ]
    },
    {
      "cell_type": "code",
      "source": [
        "X_data = data['text']\n",
        "y_data = data['category']\n"
      ],
      "metadata": {
        "id": "eLMw8SjEgKmK"
      },
      "execution_count": 16,
      "outputs": []
    },
    {
      "cell_type": "code",
      "source": [
        "tokenizer = Tokenizer()\n",
        "tokenizer.fit_on_texts(X_data)\n",
        "sequences = tokenizer.texts_to_sequences(X_data) # 텍스트를 토큰화 함."
      ],
      "metadata": {
        "id": "JwGj0EJAgrhs"
      },
      "execution_count": 17,
      "outputs": []
    },
    {
      "cell_type": "code",
      "source": [
        "word_to_index = tokenizer.word_index\n",
        "# tokenizer.word_counts.items()\n",
        "vocab_size = len(word_to_index) + 1"
      ],
      "metadata": {
        "id": "RZuDnduJg0ZT"
      },
      "execution_count": 20,
      "outputs": []
    },
    {
      "cell_type": "markdown",
      "source": [
        "- `word_to_index` : 빈도수가 낮을 수록 높은 정수를 갖는 딕셔너리\n",
        "- `vocab_size` : 단어 집합의 크기 (패딩 처리를 생각해 +1을 함)"
      ],
      "metadata": {
        "id": "iDePpVImhH2k"
      }
    },
    {
      "cell_type": "markdown",
      "source": [
        "## 3-2. 훈련 데이터와 테스트 데이터 분리"
      ],
      "metadata": {
        "id": "zUn6MTE9g_mQ"
      }
    },
    {
      "cell_type": "code",
      "source": [
        "X_data = sequences # 토큰화한 텍스트를 다시 X_data에 넣는다.\n",
        "print(\"문자의 최대 문자열 길이 : %d\" % max(len(l) for l in X_data))\n",
        "print('문자의 평균 길이 : %.0f' % (sum(map(len, X_data))/len(X_data)))\n"
      ],
      "metadata": {
        "colab": {
          "base_uri": "https://localhost:8080/"
        },
        "id": "w_BVsjbHhZR6",
        "outputId": "b770c536-c633-4ac6-f1dc-75e103d769a8"
      },
      "execution_count": 28,
      "outputs": [
        {
          "output_type": "stream",
          "name": "stdout",
          "text": [
            "문자의 최대 문자열 길이 : 189\n",
            "문자의 평균 길이 : 16\n"
          ]
        }
      ]
    },
    {
      "cell_type": "code",
      "source": [
        "max_len = 189\n",
        "data = pad_sequences(X_data, maxlen = max_len)"
      ],
      "metadata": {
        "id": "-pZLdw_Lh8rs"
      },
      "execution_count": 29,
      "outputs": []
    },
    {
      "cell_type": "code",
      "source": [
        "print(\"Train_data\", data.shape)"
      ],
      "metadata": {
        "colab": {
          "base_uri": "https://localhost:8080/"
        },
        "id": "fLDhtqGXjGJJ",
        "outputId": "f44a386c-0ff8-4ee2-d37c-56212595d00c"
      },
      "execution_count": 30,
      "outputs": [
        {
          "output_type": "stream",
          "name": "stdout",
          "text": [
            "Train_data (5169, 189)\n"
          ]
        }
      ]
    },
    {
      "cell_type": "code",
      "source": [
        "n_of_train = int(len(sequences) * 0.8)\n",
        "n_of_test = int(len(sequences) - n_of_train)"
      ],
      "metadata": {
        "id": "oftikx1fjXt4"
      },
      "execution_count": 32,
      "outputs": []
    },
    {
      "cell_type": "code",
      "source": [
        "X_test = data[n_of_train:] \n",
        "y_test = np.array(y_data[n_of_train:]) \n",
        "X_train = data[:n_of_train] \n",
        "y_train = np.array(y_data[:n_of_train])"
      ],
      "metadata": {
        "id": "nLLHbal7jL3E"
      },
      "execution_count": 33,
      "outputs": []
    },
    {
      "cell_type": "markdown",
      "source": [
        "## 3-3. 머신러닝을 활용한 스팸 메일 분류\n"
      ],
      "metadata": {
        "id": "SJOgfBjsjiR5"
      }
    },
    {
      "cell_type": "markdown",
      "source": [
        "### GBM"
      ],
      "metadata": {
        "id": "-4NF7nx9moWf"
      }
    },
    {
      "cell_type": "code",
      "source": [
        "from sklearn.ensemble import GradientBoostingClassifier\n",
        "import time"
      ],
      "metadata": {
        "id": "rguZpLbRmrMw"
      },
      "execution_count": 80,
      "outputs": []
    },
    {
      "cell_type": "code",
      "source": [
        "start_time = time.time()\n",
        "model=GradientBoostingClassifier(n_estimators=200, random_state=200, max_features=30)\n",
        "model.fit(X_train, y_train)\n",
        "\n",
        "\n",
        "print('GBM 모델의 정확도 : {0:.3f}'.format(model.score(X_test, y_test)))\n",
        "print('GBM 모델의 시간 측정 : {0:.1f}초'.format(time.time()- start_time))"
      ],
      "metadata": {
        "colab": {
          "base_uri": "https://localhost:8080/"
        },
        "id": "bzMWRNlEoKGU",
        "outputId": "d248f759-4671-4b81-af46-222fe156c732"
      },
      "execution_count": 81,
      "outputs": [
        {
          "output_type": "stream",
          "name": "stdout",
          "text": [
            "GBM 모델의 정확도 : 0.932\n",
            "GBM 모델의 시간 측정 : 1.1초\n"
          ]
        }
      ]
    },
    {
      "cell_type": "code",
      "source": [
        "depths=range(1,35)\n",
        "gbc_train, gbc_test=[],[]"
      ],
      "metadata": {
        "id": "qMnQiu83oyvI"
      },
      "execution_count": 78,
      "outputs": []
    },
    {
      "cell_type": "code",
      "source": [
        "for i in depths:\n",
        "  model=GradientBoostingClassifier(n_estimators=200, random_state=200, max_features=i)\n",
        "  model.fit(X_train,y_train)\n",
        "\n",
        "  gbc_train.append(model.score(X_train, y_train))\n",
        "  gbc_test.append(model.score(X_test, y_test))\n",
        "\n",
        "plt.plot(depths, gbc_train, label='train',marker='o')\n",
        "plt.plot(depths, gbc_test, label='test',marker='o')\n",
        "plt.ylabel('accuracy')\n",
        "plt.xlabel('number of max_features')\n",
        "plt.legend()\n",
        "\n",
        "print('GBM 모델의 정확도 : {0:.3f}'.format(model.score(X_test, y_test)))"
      ],
      "metadata": {
        "colab": {
          "base_uri": "https://localhost:8080/",
          "height": 298
        },
        "id": "Jbx4TP3-o0yQ",
        "outputId": "8bf58756-25d0-483e-e2d8-0de358e41287"
      },
      "execution_count": 79,
      "outputs": [
        {
          "output_type": "stream",
          "name": "stdout",
          "text": [
            "GBM 모델의 정확도 : 0.941\n"
          ]
        },
        {
          "output_type": "display_data",
          "data": {
            "image/png": "[encoded data removed]",
            "text/plain": [
              "<Figure size 432x288 with 1 Axes>"
            ]
          },
          "metadata": {
            "needs_background": "light"
          }
        }
      ]
    },
    {
      "cell_type": "markdown",
      "source": [
        "### RandomForest"
      ],
      "metadata": {
        "id": "967K_IkumJCU"
      }
    },
    {
      "cell_type": "code",
      "source": [
        "from sklearn.ensemble import RandomForestClassifier\n",
        "import time"
      ],
      "metadata": {
        "id": "G9t8ZIE2mMH0"
      },
      "execution_count": 69,
      "outputs": []
    },
    {
      "cell_type": "code",
      "source": [
        "start_time = time.time()\n",
        "model=RandomForestClassifier(n_estimators=75, random_state=75, max_features=55)\n",
        "model.fit(X_train, y_train)\n",
        "\n",
        "\n",
        "print('랜덤 포레스트 모델의 정확도 : {0:.3f}'.format(model.score(X_test, y_test)))\n",
        "print('랜덤 포레스트 모델의 시간 측정 : {0:.1f}초'.format(time.time()- start_time))"
      ],
      "metadata": {
        "colab": {
          "base_uri": "https://localhost:8080/"
        },
        "id": "YqqBzSLrmVMb",
        "outputId": "da6bddfe-f509-4614-9557-98a540697361"
      },
      "execution_count": 70,
      "outputs": [
        {
          "output_type": "stream",
          "name": "stdout",
          "text": [
            "랜덤 포레스트 모델의 정확도 : 0.935\n",
            "랜덤 포레스트 모델의 시간 측정 : 1.2초\n"
          ]
        }
      ]
    },
    {
      "cell_type": "code",
      "source": [
        "depths=range(1,75)\n",
        "forest_train, forest_test=[],[]"
      ],
      "metadata": {
        "id": "6LIw4a2TmRwZ"
      },
      "execution_count": 67,
      "outputs": []
    },
    {
      "cell_type": "code",
      "source": [
        "for i in depths:\n",
        "  model=RandomForestClassifier(n_estimators=75, random_state=75, max_features=i)\n",
        "  model.fit(X_train,y_train)\n",
        "\n",
        "  forest_train.append(model.score(X_train, y_train))\n",
        "  forest_test.append(model.score(X_test, y_test))\n",
        "\n",
        "\n",
        "plt.plot(depths, forest_train, label='train',marker='o')\n",
        "plt.plot(depths, forest_test, label='test',marker='o')\n",
        "plt.ylabel('accuracy')\n",
        "plt.xlabel('number of max_features')\n",
        "plt.legend()\n",
        "plt.show()\n",
        "\n",
        "print('랜덤포레스트 모델의 정확도 : {0:.3f}'.format(model.score(X_test, y_test)))"
      ],
      "metadata": {
        "colab": {
          "base_uri": "https://localhost:8080/",
          "height": 298
        },
        "id": "1qcMJ-kTmYKA",
        "outputId": "fb9810d2-5a7f-4c5b-db2b-faa21c1ba574"
      },
      "execution_count": 68,
      "outputs": [
        {
          "output_type": "display_data",
          "data": {
            "image/png": "[encoded data removed]",
            "text/plain": [
              "<Figure size 432x288 with 1 Axes>"
            ]
          },
          "metadata": {
            "needs_background": "light"
          }
        },
        {
          "output_type": "stream",
          "name": "stdout",
          "text": [
            "랜덤포레스트 모델의 정확도 : 0.942\n"
          ]
        }
      ]
    },
    {
      "cell_type": "markdown",
      "source": [
        "### Baggig"
      ],
      "metadata": {
        "id": "S0xxyo_TlIP5"
      }
    },
    {
      "cell_type": "code",
      "source": [
        "from sklearn.ensemble import BaggingClassifier\n",
        "import time"
      ],
      "metadata": {
        "id": "EXJQ4xs8jYSy"
      },
      "execution_count": 58,
      "outputs": []
    },
    {
      "cell_type": "code",
      "source": [
        "start_time = time.time()\n",
        "model = BaggingClassifier(n_estimators=80, random_state=80, max_features=15)\n",
        "model.fit(X_train, y_train)\n",
        "\n",
        "\n",
        "\n",
        "print('배깅 모델의 정확도 : {0:.3f}'.format(model.score(X_test, y_test)))\n",
        "print('배깅 모델의 시간 측정 : {0:.1f}초'.format(time.time()- start_time))"
      ],
      "metadata": {
        "colab": {
          "base_uri": "https://localhost:8080/"
        },
        "id": "ReYKIURxjsSe",
        "outputId": "94d86073-8e82-4703-e8cb-690dc47bf341"
      },
      "execution_count": 63,
      "outputs": [
        {
          "output_type": "stream",
          "name": "stdout",
          "text": [
            "배깅 모델의 정확도 : 0.926\n",
            "배깅 모델의 시간 측정 : 0.6초\n"
          ]
        }
      ]
    },
    {
      "cell_type": "markdown",
      "source": [
        "최적의 `n_estimators`와 `max_features`를 찾아낸다."
      ],
      "metadata": {
        "id": "CaSI0JdCkG9L"
      }
    },
    {
      "cell_type": "code",
      "source": [
        "depths=range(1,85) # 1~ 85까지 범위로 최적의 파라미터를 찾아낼 예정이다.\n",
        "bagging_train, bagging_test=[],[]"
      ],
      "metadata": {
        "id": "sS279ejIkBdJ"
      },
      "execution_count": 60,
      "outputs": []
    },
    {
      "cell_type": "code",
      "source": [
        "for i in depths:\n",
        "  model=BaggingClassifier(n_estimators=85, random_state=85, max_features=i) # max_features와 n_estimator를 변경하면서 최적의 파라미터를 찾는다.\n",
        "  model.fit(X_train,y_train)\n",
        "\n",
        "\n",
        "  bagging_train.append(model.score(X_train, y_train)) # 모델의 성능들을 배깅리스트에 저장한다.\n",
        "  bagging_test.append(model.score(X_test, y_test))\n",
        "\n",
        "\n",
        "\n",
        "plt.plot(depths, bagging_train, label='train',marker='o')\n",
        "plt.plot(depths, bagging_test, label='test',marker='o')\n",
        "plt.ylabel('accuracy')\n",
        "plt.xlabel('number of max_features')\n",
        "plt.legend()\n",
        "\n",
        "print('배깅 모델의 정확도 : {0:.3f}'.format(model.score(X_test, y_test)))"
      ],
      "metadata": {
        "colab": {
          "base_uri": "https://localhost:8080/",
          "height": 298
        },
        "id": "xMuuZ6VLkOhK",
        "outputId": "0a4e6cbe-48c4-45f0-be4b-2bb0b62b980c"
      },
      "execution_count": 61,
      "outputs": [
        {
          "output_type": "stream",
          "name": "stdout",
          "text": [
            "배깅 모델의 정확도 : 0.943\n"
          ]
        },
        {
          "output_type": "display_data",
          "data": {
            "image/png": "[encoded data removed]",
            "text/plain": [
              "<Figure size 432x288 with 1 Axes>"
            ]
          },
          "metadata": {
            "needs_background": "light"
          }
        }
      ]
    },
    {
      "cell_type": "markdown",
      "source": [
        "### XGBoost"
      ],
      "metadata": {
        "id": "_wnXr43cpAI2"
      }
    },
    {
      "cell_type": "code",
      "source": [
        "from xgboost import XGBClassifier\n",
        "from xgboost import plot_importance\n",
        "\n",
        "model=XGBClassifier()\n",
        "model.fit(X_train, y_train)\n",
        "\n",
        "ax=plot_importance(model)\n",
        "\n",
        "print('XGboost 정확도: {0:.4f}'.format(model.score(X_test, y_test)))\n",
        "print(\"XGboost 수행 시간: {0:.1f} 초 \".format(time.time() - start_time))"
      ],
      "metadata": {
        "colab": {
          "base_uri": "https://localhost:8080/",
          "height": 330
        },
        "id": "eREql8OukRKY",
        "outputId": "d4e1c530-c023-4f00-d4e1-eb1b556cf64d"
      },
      "execution_count": 83,
      "outputs": [
        {
          "output_type": "stream",
          "name": "stdout",
          "text": [
            "XGboost 정확도: 0.9391\n",
            "XGboost 수행 시간: 43.7 초 \n"
          ]
        },
        {
          "output_type": "display_data",
          "data": {
            "image/png": "[encoded data removed]",
            "text/plain": [
              "<Figure size 432x288 with 1 Axes>"
            ]
          },
          "metadata": {
            "needs_background": "light"
          }
        }
      ]
    }
  ]
}